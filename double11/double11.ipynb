{
 "cells": [
  {
   "cell_type": "markdown",
   "metadata": {},
   "source": [
    "<div class=\"alert alert-success guide\">\n",
    "<p>使用指南:</p>\n",
    "<p>1.选择你想要操作的cell(左边有对应的`In [x]:`的区域), 点击; 这个区域会出现一个灰色的边框</p>\n",
    "<p>2.点击左上的按钮<button class='btn'><i class=\"fa-play fa\"></i></button>(或者使用快捷键ctrl+enter)</p>\n",
    "<p>3.区域下方会出现一个修改框,会有一些选项, 直接在里面输入要修改的数据就好了</p>\n",
    "<p>4.修改完毕点击提交按钮<button class=\"btn\">提交</button>, 按钮会短暂消失(方式重复按), 区域下方会看到执行成功的绿色提示,然后去页面就能看到最新的修改啦</p>\n",
    "</div>\n",
    "<div class=\"alert alert-warning\">请谨慎操作线上数据!!</div>"
   ]
  },
  {
   "cell_type": "code",
   "execution_count": 1,
   "metadata": {
    "collapsed": false
   },
   "outputs": [],
   "source": [
    "set_review() # 修改图文推荐位点这里"
   ]
  },
  {
   "cell_type": "code",
   "execution_count": 2,
   "metadata": {
    "collapsed": false
   },
   "outputs": [],
   "source": [
    "set_boards() # 修改Story推荐位点这里"
   ]
  },
  {
   "cell_type": "code",
   "execution_count": 3,
   "metadata": {
    "collapsed": false
   },
   "outputs": [],
   "source": [
    "set_doulist() # 修改豆列推荐位点这里"
   ]
  }
 ],
 "metadata": {
  "kernelspec": {
   "display_name": "Python 2",
   "name": "python2"
  },
  "language_info": {
   "codemirror_mode": {
    "name": "ipython",
    "version": 2
   },
   "file_extension": ".py",
   "mimetype": "text/x-python",
   "name": "python",
   "nbconvert_exporter": "python",
   "pygments_lexer": "ipython2",
   "version": "2.7.5"
  }
 },
 "nbformat": 4,
 "nbformat_minor": 0
}