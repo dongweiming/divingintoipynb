{
 "cells": [
  {
   "cell_type": "code",
   "execution_count": 1,
   "metadata": {
    "collapsed": false
   },
   "outputs": [
    {
     "name": "stderr",
     "output_type": "stream",
     "text": [
      "/Library/Python/2.7/site-packages/IPython/kernel/__main__.py:57: UserWarning: Module idb was already imported from /Users/dongweiming/.ipython/extensions/idb.pyc, but /Library/Python/2.7/site-packages is being added to sys.path\n"
     ]
    }
   ],
   "source": [
    "%load_ext idb"
   ]
  },
  {
   "cell_type": "code",
   "execution_count": 2,
   "metadata": {
    "collapsed": false
   },
   "outputs": [
    {
     "name": "stderr",
     "output_type": "stream",
     "text": [
      "Indexing schema. This will take a second...finished!\n",
      "Refreshing schema. Please wait...done!\n"
     ]
    },
    {
     "data": {
      "text/plain": [
       "DB[sqlite][localhost]:None > None@None"
      ]
     },
     "execution_count": 2,
     "metadata": {},
     "output_type": "execute_result"
    }
   ],
   "source": [
    "%db_connect sqlite:///Users/dongweiming/diving_into_ipynb/double11/baseball-archive-2012.sqlite"
   ]
  },
  {
   "cell_type": "code",
   "execution_count": 3,
   "metadata": {
    "collapsed": false
   },
   "outputs": [
    {
     "data": {
      "text/html": [
       "<table>\n",
       "    <tr>\n",
       "        <th>Table</th>\n",
       "        <th>Columns</th>\n",
       "    </tr>\n",
       "    <tr>\n",
       "        <td>allstarfull</td>\n",
       "        <td>playerID, yearID, gameNum, gameID, teamID, lgID, GP, startingPos</td>\n",
       "    </tr>\n",
       "    <tr>\n",
       "        <td>appearances</td>\n",
       "        <td>yearID, teamID, lgID, playerID, G_all, G_batting, G_defense, G_p, G_c, G_1b, G_2<br>b, G_3b, G_ss, G_lf, G_cf, G_rf, G_of, G_dh, G_ph, G_pr</td>\n",
       "    </tr>\n",
       "    <tr>\n",
       "        <td>awardsmanagers</td>\n",
       "        <td>managerID, awardID, yearID, lgID, tie, notes</td>\n",
       "    </tr>\n",
       "    <tr>\n",
       "        <td>awardsplayers</td>\n",
       "        <td>playerID, awardID, yearID, lgID, tie, notes</td>\n",
       "    </tr>\n",
       "    <tr>\n",
       "        <td>awardssharemanagers</td>\n",
       "        <td>awardID, yearID, lgID, managerID, pointsWon, pointsMax, votesFirst</td>\n",
       "    </tr>\n",
       "    <tr>\n",
       "        <td>awardsshareplayers</td>\n",
       "        <td>awardID, yearID, lgID, playerID, pointsWon, pointsMax, votesFirst</td>\n",
       "    </tr>\n",
       "    <tr>\n",
       "        <td>battingpost</td>\n",
       "        <td>yearID, round, playerID, teamID, lgID, G, AB, R, H, 2B, 3B, HR, RBI, SB, CS, BB,<br> SO, IBB, HBP, SH, SF, GIDP</td>\n",
       "    </tr>\n",
       "    <tr>\n",
       "        <td>fielding</td>\n",
       "        <td>playerID, yearID, stint, teamID, lgID, POS, G, GS, InnOuts, PO, A, E, DP, PB, WP<br>, SB, CS, ZR</td>\n",
       "    </tr>\n",
       "    <tr>\n",
       "        <td>fieldingof</td>\n",
       "        <td>playerID, yearID, stint, Glf, Gcf, Grf</td>\n",
       "    </tr>\n",
       "    <tr>\n",
       "        <td>fieldingpost</td>\n",
       "        <td>playerID, yearID, teamID, lgID, round, POS, G, GS, InnOuts, PO, A, E, DP, TP, PB<br>, SB, CS</td>\n",
       "    </tr>\n",
       "    <tr>\n",
       "        <td>halloffame</td>\n",
       "        <td>hofID, yearid, votedBy, ballots, needed, votes, inducted, category</td>\n",
       "    </tr>\n",
       "    <tr>\n",
       "        <td>hofold</td>\n",
       "        <td>hofID, yearid, votedBy, ballots, votes, inducted, category</td>\n",
       "    </tr>\n",
       "    <tr>\n",
       "        <td>managers</td>\n",
       "        <td>managerID, yearID, teamID, lgID, inseason, G, W, L, rank, plyrMgr</td>\n",
       "    </tr>\n",
       "    <tr>\n",
       "        <td>managershalf</td>\n",
       "        <td>managerID, yearID, teamID, lgID, inseason, half, G, W, L, rank</td>\n",
       "    </tr>\n",
       "    <tr>\n",
       "        <td>master</td>\n",
       "        <td>lahmanID, playerID, managerID, hofID, birthYear, birthMonth, birthDay, birthCoun<br>try, birthState, birthCity, deathYear, deathMonth, deathDay, deathCountry, death<br>State, deathCity, nameFirst, nameLast, nameNote, nameGiven, nameNick, weight, he<br>ight, bats, throws, debut, finalGame, college, lahman40ID, lahman45ID, retroID, <br>holtzID, bbrefID</td>\n",
       "    </tr>\n",
       "    <tr>\n",
       "        <td>pitching</td>\n",
       "        <td>playerID, yearID, stint, teamID, lgID, W, L, G, GS, CG, SHO, SV, IPouts, H, ER, <br>HR, BB, SO, BAOpp, ERA, IBB, WP, HBP, BK, BFP, GF, R, SH, SF, GIDP</td>\n",
       "    </tr>\n",
       "    <tr>\n",
       "        <td>pitchingpost</td>\n",
       "        <td>playerID, yearID, round, teamID, lgID, W, L, G, GS, CG, SHO, SV, IPouts, H, ER, <br>HR, BB, SO, BAOpp, ERA, IBB, WP, HBP, BK, BFP, GF, R, SH, SF, GIDP</td>\n",
       "    </tr>\n",
       "    <tr>\n",
       "        <td>salaries</td>\n",
       "        <td>yearID, teamID, lgID, playerID, salary</td>\n",
       "    </tr>\n",
       "    <tr>\n",
       "        <td>schools</td>\n",
       "        <td>schoolID, schoolName, schoolCity, schoolState, schoolNick</td>\n",
       "    </tr>\n",
       "    <tr>\n",
       "        <td>schoolsplayers</td>\n",
       "        <td>playerID, schoolID, yearMin, yearMax</td>\n",
       "    </tr>\n",
       "    <tr>\n",
       "        <td>seriespost</td>\n",
       "        <td>yearID, round, teamIDwinner, lgIDwinner, teamIDloser, lgIDloser, wins, losses, t<br>ies</td>\n",
       "    </tr>\n",
       "    <tr>\n",
       "        <td>teams</td>\n",
       "        <td>yearID, lgID, teamID, franchID, divID, Rank, G, Ghome, W, L, DivWin, WCWin, LgWi<br>n, WSWin, R, AB, H, 2B, 3B, HR, BB, SO, SB, CS, HBP, SF, RA, ER, ERA, CG, SHO, S<br>V, IPouts, HA, HRA, BBA, SOA, E, DP, FP, name, park, attendance, BPF, PPF, teamI<br>DBR, teamIDlahman45, teamIDretro</td>\n",
       "    </tr>\n",
       "    <tr>\n",
       "        <td>teamsfranchises</td>\n",
       "        <td>franchID, franchName, active, NAassoc</td>\n",
       "    </tr>\n",
       "    <tr>\n",
       "        <td>teamshalf</td>\n",
       "        <td>yearID, lgID, teamID, Half, divID, DivWin, Rank, G, W, L</td>\n",
       "    </tr>\n",
       "    <tr>\n",
       "        <td>tmp_batting</td>\n",
       "        <td>playerID, yearID, stint, teamID, lgID, G, G_batting, AB, R, H, 2B, 3B, HR, RBI, <br>SB, CS, BB, SO, IBB, HBP, SH, SF, GIDP, G_old</td>\n",
       "    </tr>\n",
       "</table>"
      ],
      "text/plain": [
       "+---------------------+----------------------------------------------------------------------------------+\n",
       "| Table               | Columns                                                                          |\n",
       "+---------------------+----------------------------------------------------------------------------------+\n",
       "| allstarfull         | playerID, yearID, gameNum, gameID, teamID, lgID, GP, startingPos                 |\n",
       "| appearances         | yearID, teamID, lgID, playerID, G_all, G_batting, G_defense, G_p, G_c, G_1b, G_2 |\n",
       "|                     | b, G_3b, G_ss, G_lf, G_cf, G_rf, G_of, G_dh, G_ph, G_pr                          |\n",
       "| awardsmanagers      | managerID, awardID, yearID, lgID, tie, notes                                     |\n",
       "| awardsplayers       | playerID, awardID, yearID, lgID, tie, notes                                      |\n",
       "| awardssharemanagers | awardID, yearID, lgID, managerID, pointsWon, pointsMax, votesFirst               |\n",
       "| awardsshareplayers  | awardID, yearID, lgID, playerID, pointsWon, pointsMax, votesFirst                |\n",
       "| battingpost         | yearID, round, playerID, teamID, lgID, G, AB, R, H, 2B, 3B, HR, RBI, SB, CS, BB, |\n",
       "|                     |  SO, IBB, HBP, SH, SF, GIDP                                                      |\n",
       "| fielding            | playerID, yearID, stint, teamID, lgID, POS, G, GS, InnOuts, PO, A, E, DP, PB, WP |\n",
       "|                     | , SB, CS, ZR                                                                     |\n",
       "| fieldingof          | playerID, yearID, stint, Glf, Gcf, Grf                                           |\n",
       "| fieldingpost        | playerID, yearID, teamID, lgID, round, POS, G, GS, InnOuts, PO, A, E, DP, TP, PB |\n",
       "|                     | , SB, CS                                                                         |\n",
       "| halloffame          | hofID, yearid, votedBy, ballots, needed, votes, inducted, category               |\n",
       "| hofold              | hofID, yearid, votedBy, ballots, votes, inducted, category                       |\n",
       "| managers            | managerID, yearID, teamID, lgID, inseason, G, W, L, rank, plyrMgr                |\n",
       "| managershalf        | managerID, yearID, teamID, lgID, inseason, half, G, W, L, rank                   |\n",
       "| master              | lahmanID, playerID, managerID, hofID, birthYear, birthMonth, birthDay, birthCoun |\n",
       "|                     | try, birthState, birthCity, deathYear, deathMonth, deathDay, deathCountry, death |\n",
       "|                     | State, deathCity, nameFirst, nameLast, nameNote, nameGiven, nameNick, weight, he |\n",
       "|                     | ight, bats, throws, debut, finalGame, college, lahman40ID, lahman45ID, retroID,  |\n",
       "|                     | holtzID, bbrefID                                                                 |\n",
       "| pitching            | playerID, yearID, stint, teamID, lgID, W, L, G, GS, CG, SHO, SV, IPouts, H, ER,  |\n",
       "|                     | HR, BB, SO, BAOpp, ERA, IBB, WP, HBP, BK, BFP, GF, R, SH, SF, GIDP               |\n",
       "| pitchingpost        | playerID, yearID, round, teamID, lgID, W, L, G, GS, CG, SHO, SV, IPouts, H, ER,  |\n",
       "|                     | HR, BB, SO, BAOpp, ERA, IBB, WP, HBP, BK, BFP, GF, R, SH, SF, GIDP               |\n",
       "| salaries            | yearID, teamID, lgID, playerID, salary                                           |\n",
       "| schools             | schoolID, schoolName, schoolCity, schoolState, schoolNick                        |\n",
       "| schoolsplayers      | playerID, schoolID, yearMin, yearMax                                             |\n",
       "| seriespost          | yearID, round, teamIDwinner, lgIDwinner, teamIDloser, lgIDloser, wins, losses, t |\n",
       "|                     | ies                                                                              |\n",
       "| teams               | yearID, lgID, teamID, franchID, divID, Rank, G, Ghome, W, L, DivWin, WCWin, LgWi |\n",
       "|                     | n, WSWin, R, AB, H, 2B, 3B, HR, BB, SO, SB, CS, HBP, SF, RA, ER, ERA, CG, SHO, S |\n",
       "|                     | V, IPouts, HA, HRA, BBA, SOA, E, DP, FP, name, park, attendance, BPF, PPF, teamI |\n",
       "|                     | DBR, teamIDlahman45, teamIDretro                                                 |\n",
       "| teamsfranchises     | franchID, franchName, active, NAassoc                                            |\n",
       "| teamshalf           | yearID, lgID, teamID, Half, divID, DivWin, Rank, G, W, L                         |\n",
       "| tmp_batting         | playerID, yearID, stint, teamID, lgID, G, G_batting, AB, R, H, 2B, 3B, HR, RBI,  |\n",
       "|                     | SB, CS, BB, SO, IBB, HBP, SH, SF, GIDP, G_old                                    |\n",
       "+---------------------+----------------------------------------------------------------------------------+"
      ]
     },
     "execution_count": 3,
     "metadata": {},
     "output_type": "execute_result"
    }
   ],
   "source": [
    "%table"
   ]
  },
  {
   "cell_type": "code",
   "execution_count": 4,
   "metadata": {
    "collapsed": false
   },
   "outputs": [
    {
     "data": {
      "text/html": [
       "<table>\n",
       "    <tr>\n",
       "        <th>Column</th>\n",
       "        <th>Type</th>\n",
       "        <th>Foreign Keys</th>\n",
       "        <th>Reference Keys</th>\n",
       "    </tr>\n",
       "    <tr>\n",
       "        <td>playerID</td>\n",
       "        <td>TEXT</td>\n",
       "        <td></td>\n",
       "        <td></td>\n",
       "    </tr>\n",
       "    <tr>\n",
       "        <td>yearID</td>\n",
       "        <td>INTEGER</td>\n",
       "        <td></td>\n",
       "        <td></td>\n",
       "    </tr>\n",
       "    <tr>\n",
       "        <td>gameNum</td>\n",
       "        <td>INTEGER</td>\n",
       "        <td></td>\n",
       "        <td></td>\n",
       "    </tr>\n",
       "    <tr>\n",
       "        <td>gameID</td>\n",
       "        <td>TEXT</td>\n",
       "        <td></td>\n",
       "        <td></td>\n",
       "    </tr>\n",
       "    <tr>\n",
       "        <td>teamID</td>\n",
       "        <td>TEXT</td>\n",
       "        <td></td>\n",
       "        <td></td>\n",
       "    </tr>\n",
       "    <tr>\n",
       "        <td>lgID</td>\n",
       "        <td>TEXT</td>\n",
       "        <td></td>\n",
       "        <td></td>\n",
       "    </tr>\n",
       "    <tr>\n",
       "        <td>GP</td>\n",
       "        <td>INTEGER</td>\n",
       "        <td></td>\n",
       "        <td></td>\n",
       "    </tr>\n",
       "    <tr>\n",
       "        <td>startingPos</td>\n",
       "        <td>INTEGER</td>\n",
       "        <td></td>\n",
       "        <td></td>\n",
       "    </tr>\n",
       "</table>"
      ],
      "text/plain": [
       "+-------------------------------------------------------+\n",
       "|                      allstarfull                      |\n",
       "+-------------+---------+--------------+----------------+\n",
       "| Column      | Type    | Foreign Keys | Reference Keys |\n",
       "+-------------+---------+--------------+----------------+\n",
       "| playerID    | TEXT    |              |                |\n",
       "| yearID      | INTEGER |              |                |\n",
       "| gameNum     | INTEGER |              |                |\n",
       "| gameID      | TEXT    |              |                |\n",
       "| teamID      | TEXT    |              |                |\n",
       "| lgID        | TEXT    |              |                |\n",
       "| GP          | INTEGER |              |                |\n",
       "| startingPos | INTEGER |              |                |\n",
       "+-------------+---------+--------------+----------------+"
      ]
     },
     "execution_count": 4,
     "metadata": {},
     "output_type": "execute_result"
    }
   ],
   "source": [
    "%table allstarfull"
   ]
  },
  {
   "cell_type": "code",
   "execution_count": 5,
   "metadata": {
    "collapsed": false
   },
   "outputs": [
    {
     "data": {
      "text/html": [
       "<table>\n",
       "    <tr>\n",
       "        <th>Table</th>\n",
       "        <th>Name</th>\n",
       "        <th>Type</th>\n",
       "    </tr>\n",
       "    <tr>\n",
       "        <td>allstarfull</td>\n",
       "        <td>playerID</td>\n",
       "        <td>TEXT</td>\n",
       "    </tr>\n",
       "</table>"
      ],
      "text/plain": [
       "+-------------+----------+------+--------------+----------------+\n",
       "|    Table    |   Name   | Type | Foreign Keys | Reference Keys |\n",
       "+-------------+----------+------+--------------+----------------+\n",
       "| allstarfull | playerID | TEXT |              |                |\n",
       "+-------------+----------+------+--------------+----------------+"
      ]
     },
     "execution_count": 5,
     "metadata": {},
     "output_type": "execute_result"
    }
   ],
   "source": [
    "%table allstarfull playerID"
   ]
  },
  {
   "cell_type": "code",
   "execution_count": 6,
   "metadata": {
    "collapsed": false
   },
   "outputs": [
    {
     "data": {
      "text/plain": [
       "1637"
      ]
     },
     "execution_count": 6,
     "metadata": {},
     "output_type": "execute_result"
    }
   ],
   "source": [
    "%table allstarfull playerID unique count"
   ]
  },
  {
   "cell_type": "code",
   "execution_count": 7,
   "metadata": {
    "collapsed": false
   },
   "outputs": [
    {
     "data": {
      "text/html": [
       "<table>\n",
       "    <tr>\n",
       "        <th>Table</th>\n",
       "        <th>Column Name</th>\n",
       "        <th>Type</th>\n",
       "    </tr>\n",
       "    <tr>\n",
       "        <td>allstarfull</td>\n",
       "        <td>playerID</td>\n",
       "        <td>TEXT</td>\n",
       "    </tr>\n",
       "    <tr>\n",
       "        <td>appearances</td>\n",
       "        <td>playerID</td>\n",
       "        <td>TEXT</td>\n",
       "    </tr>\n",
       "    <tr>\n",
       "        <td>awardsplayers</td>\n",
       "        <td>playerID</td>\n",
       "        <td>TEXT</td>\n",
       "    </tr>\n",
       "    <tr>\n",
       "        <td>awardsshareplayers</td>\n",
       "        <td>playerID</td>\n",
       "        <td>TEXT</td>\n",
       "    </tr>\n",
       "    <tr>\n",
       "        <td>battingpost</td>\n",
       "        <td>playerID</td>\n",
       "        <td>TEXT</td>\n",
       "    </tr>\n",
       "    <tr>\n",
       "        <td>fielding</td>\n",
       "        <td>playerID</td>\n",
       "        <td>TEXT</td>\n",
       "    </tr>\n",
       "    <tr>\n",
       "        <td>fieldingof</td>\n",
       "        <td>playerID</td>\n",
       "        <td>TEXT</td>\n",
       "    </tr>\n",
       "    <tr>\n",
       "        <td>fieldingpost</td>\n",
       "        <td>playerID</td>\n",
       "        <td>TEXT</td>\n",
       "    </tr>\n",
       "    <tr>\n",
       "        <td>master</td>\n",
       "        <td>playerID</td>\n",
       "        <td>TEXT</td>\n",
       "    </tr>\n",
       "    <tr>\n",
       "        <td>pitching</td>\n",
       "        <td>playerID</td>\n",
       "        <td>TEXT</td>\n",
       "    </tr>\n",
       "    <tr>\n",
       "        <td>pitchingpost</td>\n",
       "        <td>playerID</td>\n",
       "        <td>TEXT</td>\n",
       "    </tr>\n",
       "    <tr>\n",
       "        <td>salaries</td>\n",
       "        <td>playerID</td>\n",
       "        <td>TEXT</td>\n",
       "    </tr>\n",
       "    <tr>\n",
       "        <td>schoolsplayers</td>\n",
       "        <td>playerID</td>\n",
       "        <td>TEXT</td>\n",
       "    </tr>\n",
       "    <tr>\n",
       "        <td>tmp_batting</td>\n",
       "        <td>playerID</td>\n",
       "        <td>TEXT</td>\n",
       "    </tr>\n",
       "</table>"
      ],
      "text/plain": [
       "+--------------------+-------------+------+\n",
       "| Table              | Column Name | Type |\n",
       "+--------------------+-------------+------+\n",
       "| allstarfull        |   playerID  | TEXT |\n",
       "| appearances        |   playerID  | TEXT |\n",
       "| awardsplayers      |   playerID  | TEXT |\n",
       "| awardsshareplayers |   playerID  | TEXT |\n",
       "| battingpost        |   playerID  | TEXT |\n",
       "| fielding           |   playerID  | TEXT |\n",
       "| fieldingof         |   playerID  | TEXT |\n",
       "| fieldingpost       |   playerID  | TEXT |\n",
       "| master             |   playerID  | TEXT |\n",
       "| pitching           |   playerID  | TEXT |\n",
       "| pitchingpost       |   playerID  | TEXT |\n",
       "| salaries           |   playerID  | TEXT |\n",
       "| schoolsplayers     |   playerID  | TEXT |\n",
       "| tmp_batting        |   playerID  | TEXT |\n",
       "+--------------------+-------------+------+"
      ]
     },
     "execution_count": 7,
     "metadata": {},
     "output_type": "execute_result"
    }
   ],
   "source": [
    "%find_column *player*"
   ]
  },
  {
   "cell_type": "code",
   "execution_count": 8,
   "metadata": {
    "collapsed": false
   },
   "outputs": [
    {
     "data": {
      "text/html": [
       "<table>\n",
       "    <tr>\n",
       "        <th>Table</th>\n",
       "        <th>Column Name</th>\n",
       "        <th>Type</th>\n",
       "    </tr>\n",
       "    <tr>\n",
       "        <td>battingpost</td>\n",
       "        <td>HR</td>\n",
       "        <td>INTEGER</td>\n",
       "    </tr>\n",
       "    <tr>\n",
       "        <td>pitching</td>\n",
       "        <td>HR</td>\n",
       "        <td>INTEGER</td>\n",
       "    </tr>\n",
       "    <tr>\n",
       "        <td>pitchingpost</td>\n",
       "        <td>HR</td>\n",
       "        <td>INTEGER</td>\n",
       "    </tr>\n",
       "    <tr>\n",
       "        <td>teams</td>\n",
       "        <td>HR</td>\n",
       "        <td>INTEGER</td>\n",
       "    </tr>\n",
       "    <tr>\n",
       "        <td>tmp_batting</td>\n",
       "        <td>HR</td>\n",
       "        <td>INTEGER</td>\n",
       "    </tr>\n",
       "</table>"
      ],
      "text/plain": [
       "+--------------+-------------+---------+\n",
       "| Table        | Column Name | Type    |\n",
       "+--------------+-------------+---------+\n",
       "| battingpost  |      HR     | INTEGER |\n",
       "| pitching     |      HR     | INTEGER |\n",
       "| pitchingpost |      HR     | INTEGER |\n",
       "| teams        |      HR     | INTEGER |\n",
       "| tmp_batting  |      HR     | INTEGER |\n",
       "+--------------+-------------+---------+"
      ]
     },
     "execution_count": 8,
     "metadata": {},
     "output_type": "execute_result"
    }
   ],
   "source": [
    "%find_column HR INTEGER"
   ]
  },
  {
   "cell_type": "code",
   "execution_count": 9,
   "metadata": {
    "collapsed": false
   },
   "outputs": [
    {
     "name": "stdout",
     "output_type": "stream",
     "text": [
      "Save credentials [] successful!\n"
     ]
    }
   ],
   "source": [
    "%save_credentials baseball"
   ]
  },
  {
   "cell_type": "code",
   "execution_count": 10,
   "metadata": {
    "collapsed": true
   },
   "outputs": [],
   "source": [
    "df1 = %query select * from allstarfull limit 1;"
   ]
  },
  {
   "cell_type": "code",
   "execution_count": 11,
   "metadata": {
    "collapsed": false
   },
   "outputs": [
    {
     "data": {
      "text/html": [
       "<div style=\"max-height:1000px;max-width:1500px;overflow:auto;\">\n",
       "<table border=\"1\" class=\"dataframe\">\n",
       "  <thead>\n",
       "    <tr style=\"text-align: right;\">\n",
       "      <th></th>\n",
       "      <th>playerID</th>\n",
       "      <th>yearID</th>\n",
       "      <th>gameNum</th>\n",
       "      <th>gameID</th>\n",
       "      <th>teamID</th>\n",
       "      <th>lgID</th>\n",
       "      <th>GP</th>\n",
       "      <th>startingPos</th>\n",
       "    </tr>\n",
       "  </thead>\n",
       "  <tbody>\n",
       "    <tr>\n",
       "      <th>0</th>\n",
       "      <td> aaronha01</td>\n",
       "      <td> 1955</td>\n",
       "      <td> 0</td>\n",
       "      <td> NLS195507120</td>\n",
       "      <td> ML1</td>\n",
       "      <td> NL</td>\n",
       "      <td> 1</td>\n",
       "      <td> None</td>\n",
       "    </tr>\n",
       "  </tbody>\n",
       "</table>\n",
       "<p>1 rows × 8 columns</p>\n",
       "</div>"
      ],
      "text/plain": [
       "    playerID  yearID  gameNum        gameID teamID lgID  GP startingPos\n",
       "0  aaronha01    1955        0  NLS195507120    ML1   NL   1        None\n",
       "\n",
       "[1 rows x 8 columns]"
      ]
     },
     "execution_count": 11,
     "metadata": {},
     "output_type": "execute_result"
    }
   ],
   "source": [
    "df1"
   ]
  }
 ],
 "metadata": {
  "kernelspec": {
   "display_name": "Python 2",
   "name": "python2"
  },
  "language_info": {
   "codemirror_mode": {
    "name": "ipython",
    "version": 2
   },
   "file_extension": ".py",
   "mimetype": "text/x-python",
   "name": "python",
   "nbconvert_exporter": "python",
   "pygments_lexer": "ipython2",
   "version": "2.7.5"
  }
 },
 "nbformat": 4,
 "nbformat_minor": 0
}
